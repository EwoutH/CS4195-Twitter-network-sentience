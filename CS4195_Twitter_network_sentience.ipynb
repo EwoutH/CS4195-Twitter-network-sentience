{
  "nbformat": 4,
  "nbformat_minor": 0,
  "metadata": {
    "colab": {
      "provenance": [],
      "authorship_tag": "ABX9TyNX2W7qixjl5wbCgTu/bvM1",
      "include_colab_link": true
    },
    "kernelspec": {
      "name": "python3",
      "display_name": "Python 3"
    },
    "language_info": {
      "name": "python"
    }
  },
  "cells": [
    {
      "cell_type": "markdown",
      "metadata": {
        "id": "view-in-github",
        "colab_type": "text"
      },
      "source": [
        "<a href=\"https://colab.research.google.com/github/EwoutH/CS4195-Twitter-network-sentience/blob/main/CS4195_Twitter_network_sentience.ipynb\" target=\"_parent\"><img src=\"https://colab.research.google.com/assets/colab-badge.svg\" alt=\"Open In Colab\"/></a>"
      ]
    },
    {
      "cell_type": "markdown",
      "source": [
        "### Initial notebook"
      ],
      "metadata": {
        "id": "vCWmzi9fw847"
      }
    },
    {
      "cell_type": "code",
      "execution_count": 1,
      "metadata": {
        "id": "hwU2xKe0w4BR"
      },
      "outputs": [],
      "source": []
    }
  ]
}